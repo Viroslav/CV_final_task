{
  "nbformat": 4,
  "nbformat_minor": 0,
  "metadata": {
    "colab": {
      "provenance": [],
      "collapsed_sections": [
        "C0icOXa3J4vM",
        "J4xBC89pcIyJ",
        "OHp8bB3iKM8E"
      ],
      "authorship_tag": "ABX9TyP1hETaAkkSamUahmxqZtS4",
      "include_colab_link": true
    },
    "kernelspec": {
      "name": "python3",
      "display_name": "Python 3"
    },
    "language_info": {
      "name": "python"
    }
  },
  "cells": [
    {
      "cell_type": "markdown",
      "metadata": {
        "id": "view-in-github",
        "colab_type": "text"
      },
      "source": [
        "<a href=\"https://colab.research.google.com/github/Viroslav/CV_final_task/blob/main/Final_task.ipynb\" target=\"_parent\"><img src=\"https://colab.research.google.com/assets/colab-badge.svg\" alt=\"Open In Colab\"/></a>"
      ]
    },
    {
      "cell_type": "markdown",
      "source": [
        "\n",
        "Your task is to find the shaded segmentation mask.\n",
        "Check out the guidelines_of_first_20_images folder. This folder is to illustrate and guide you for better understanding on the problem. \n",
        "\n",
        "You have to write an algorithm that will solve the following problem. Here are the instructions for your algorithm.\n",
        "\n",
        "Inputs for the algorithm are in the dataset folder:\n",
        "1. Image raw (the image folder)\n",
        "2. Human parsing of the image \n",
        "3. Pose estimation of the person (both json and image) [*1]\n",
        "\n",
        "Output:\n",
        "1. The person's image with gray shaded region. Look at the sample_output.jpg for details.\n",
        "\n",
        "Note: you don't have to use all the inputs given to you. You may use only those inputs that you find important for your algorithm to work better.\n",
        "\n",
        "\n",
        "\n",
        "[*1]\n",
        "body25 + hands labelling, check out the openpose labels for more details if you want."
      ],
      "metadata": {
        "id": "mUOoNGJbIlN8"
      }
    },
    {
      "cell_type": "markdown",
      "source": [
        "## Mount Drive"
      ],
      "metadata": {
        "id": "C0icOXa3J4vM"
      }
    },
    {
      "cell_type": "code",
      "source": [
        "from google.colab import drive\n",
        "drive.mount('/content/drive')"
      ],
      "metadata": {
        "colab": {
          "base_uri": "https://localhost:8080/"
        },
        "id": "ZbkU8hZAIlmY",
        "outputId": "2ac63242-00be-462e-f8c4-33eb37ecbbde"
      },
      "execution_count": 6,
      "outputs": [
        {
          "output_type": "stream",
          "name": "stdout",
          "text": [
            "Drive already mounted at /content/drive; to attempt to forcibly remount, call drive.mount(\"/content/drive\", force_remount=True).\n"
          ]
        }
      ]
    },
    {
      "cell_type": "code",
      "source": [
        "path = '/content/drive/MyDrive/Final_task/Task'"
      ],
      "metadata": {
        "id": "flOtm4bCJ7NS"
      },
      "execution_count": 30,
      "outputs": []
    },
    {
      "cell_type": "markdown",
      "source": [
        "## imports"
      ],
      "metadata": {
        "id": "J4xBC89pcIyJ"
      }
    },
    {
      "cell_type": "code",
      "source": [
        "import torch\n",
        "import numpy as np\n",
        "import cv2\n",
        "import imutils\n",
        "import matplotlib.pyplot as plt\n",
        "from skimage.transform import rescale, ProjectiveTransform, warp\n",
        "import pickle\n",
        "import pandas as pd\n",
        "import random\n",
        "from skimage import io\n",
        "from pylab import imshow\n",
        "\n",
        "from tqdm import tqdm, tqdm_notebook\n",
        "from PIL import Image\n",
        "from pathlib import Path\n",
        "\n",
        "from torchvision import transforms\n",
        "from multiprocessing.pool import ThreadPool\n",
        "from sklearn.preprocessing import LabelEncoder\n",
        "from torch.utils.data import Dataset, DataLoader\n",
        "import torch.nn as nn\n",
        "\n",
        "\n",
        "from matplotlib import cm\n",
        "from skimage.feature import canny\n",
        "import imutils\n",
        "from sklearn.metrics import accuracy_score\n",
        "\n",
        "import warnings\n",
        "import os\n",
        "import torch\n",
        "warnings.filterwarnings(action='ignore', category=DeprecationWarning)\n",
        "\n",
        "\n",
        "\n",
        "np.random.seed(42)\n",
        "torch.manual_seed(42)\n",
        "torch.cuda.manual_seed(42)\n",
        "torch.backends.cudnn.deterministic = True\n",
        "\n",
        "\n",
        "%matplotlib inline\n",
        "from matplotlib import colors, pyplot as plt\n",
        "import seaborn as sns\n",
        "%matplotlib inline\n",
        "\n",
        "import warnings\n",
        "warnings.filterwarnings(action='ignore', category=DeprecationWarning)\n",
        "\n",
        "np.random.seed(42)\n",
        "torch.manual_seed(42)\n",
        "torch.cuda.manual_seed(42)\n",
        "torch.backends.cudnn.deterministic = True\n",
        "\n",
        "train_on_gpu = torch.cuda.is_available()\n",
        "\n",
        "if not train_on_gpu:\n",
        "    print('CUDA is not available.  Training on CPU ...')\n",
        "else:\n",
        "    print('CUDA is available!  Training on GPU ...')"
      ],
      "metadata": {
        "colab": {
          "base_uri": "https://localhost:8080/"
        },
        "id": "r5EK5wY-cKNZ",
        "outputId": "b3234e31-7a52-443b-a820-7e60e6ce9096"
      },
      "execution_count": 29,
      "outputs": [
        {
          "output_type": "stream",
          "name": "stdout",
          "text": [
            "CUDA is not available.  Training on CPU ...\n"
          ]
        }
      ]
    },
    {
      "cell_type": "markdown",
      "source": [
        "## Auxiliary Functions"
      ],
      "metadata": {
        "id": "OHp8bB3iKM8E"
      }
    },
    {
      "cell_type": "code",
      "source": [
        "def show(img, cmap=None):\n",
        "    \"\"\"\n",
        "    function to plot image\n",
        "    \"\"\"\n",
        "    \n",
        "    plt.figure(figsize=(14,8))\n",
        "    plt.imshow(img, cmap=cmap)\n",
        "    plt.axis('off')\n",
        "    plt.show()"
      ],
      "metadata": {
        "id": "RPVbmWY8KMBO"
      },
      "execution_count": 55,
      "outputs": []
    },
    {
      "cell_type": "markdown",
      "source": [
        "## work with data"
      ],
      "metadata": {
        "id": "BWDIHgLAdR5J"
      }
    },
    {
      "cell_type": "code",
      "source": [
        "%%time\n",
        "human_parsing = {}\n",
        "for img in os.listdir(path + '/dataset/human_parsing/'):\n",
        "    if img[-4:].lower() == '.png' or img[-4:].lower() == '.jpg':\n",
        "        # print(f' Loading: {img}')\n",
        "        human_parsing[img]  = cv2.cvtColor(cv2.imread(f'{path}/dataset/human_parsing/{img}'), cv2.COLOR_BGR2RGB)\n",
        "print(f'All {len(human_parsing)} photos of human_parsing completed')"
      ],
      "metadata": {
        "colab": {
          "base_uri": "https://localhost:8080/"
        },
        "id": "_vbsTpUNjmXy",
        "outputId": "9fe8e7db-813b-47c3-b89e-4c7e5418e68e"
      },
      "execution_count": 61,
      "outputs": [
        {
          "output_type": "stream",
          "name": "stdout",
          "text": [
            "All 704 photos of human_parsing completed\n",
            "CPU times: user 4.43 s, sys: 611 ms, total: 5.05 s\n",
            "Wall time: 6.45 s\n"
          ]
        }
      ]
    },
    {
      "cell_type": "code",
      "source": [
        "%%time\n",
        "image = {}\n",
        "for img in os.listdir(path + '/dataset/image/'):\n",
        "    if img[-4:].lower() == '.png' or img[-4:].lower() == '.jpg':\n",
        "        # print(f' Loading: {img}')\n",
        "        image[img]  = cv2.cvtColor(cv2.imread(f'{path}/dataset/image/{img}'), cv2.COLOR_BGR2RGB)\n",
        "print(f'All {len(image)} photos of image completed')"
      ],
      "metadata": {
        "colab": {
          "base_uri": "https://localhost:8080/"
        },
        "id": "9h5fuh4GmcwA",
        "outputId": "8372384e-3a54-4a40-b706-99bfdfaeec1c"
      },
      "execution_count": 63,
      "outputs": [
        {
          "output_type": "stream",
          "name": "stdout",
          "text": [
            "All 704 photos of image completed\n",
            "CPU times: user 8.04 s, sys: 1.72 s, total: 9.76 s\n",
            "Wall time: 17.9 s\n"
          ]
        }
      ]
    },
    {
      "cell_type": "code",
      "source": [
        "%%time\n",
        "pose_jpg = {}\n",
        "for img in os.listdir(path + '/dataset/pose_img/'):\n",
        "    if img[-4:].lower() == '.png' or img[-4:].lower() == '.jpg':\n",
        "        # print(f' Loading: {img}')\n",
        "        pose_jpg[img]  = cv2.cvtColor(cv2.imread(f'{path}/dataset/pose_img/{img}'), cv2.COLOR_BGR2RGB)\n",
        "print(f'All {len(pose_jpg)} photos of pose_jpg completed')"
      ],
      "metadata": {
        "colab": {
          "base_uri": "https://localhost:8080/"
        },
        "id": "k1V01yF3nZGP",
        "outputId": "d285b665-9a65-42ba-ccf4-f935f5ed13aa"
      },
      "execution_count": 66,
      "outputs": [
        {
          "output_type": "stream",
          "name": "stdout",
          "text": [
            "All 704 photos of pose_jpg completed\n",
            "CPU times: user 7 s, sys: 1.48 s, total: 8.48 s\n",
            "Wall time: 16.3 s\n"
          ]
        }
      ]
    },
    {
      "cell_type": "code",
      "source": [
        "imshow(np.hstack([human_parsing['168762_00.png'], image['168762_00.jpg'], pose_jpg['168762_00_rendered.png']]))"
      ],
      "metadata": {
        "colab": {
          "base_uri": "https://localhost:8080/",
          "height": 218
        },
        "id": "k6DDHhiynHrm",
        "outputId": "2e0e8bc1-7243-4b21-aa76-f837341b2f83"
      },
      "execution_count": 72,
      "outputs": [
        {
          "output_type": "execute_result",
          "data": {
            "text/plain": [
              "<matplotlib.image.AxesImage at 0x7f747e966bb0>"
            ]
          },
          "metadata": {},
          "execution_count": 72
        },
        {
          "output_type": "display_data",
          "data": {
            "text/plain": [
              "<Figure size 432x288 with 1 Axes>"
            ],
            "image/png": "[encoded data removed]"
          },
          "metadata": {
            "needs_background": "light"
          }
        }
      ]
    },
    {
      "cell_type": "markdown",
      "source": [
        "## Thoughts"
      ],
      "metadata": {
        "id": "NzJnvc9Eqv0O"
      }
    },
    {
      "cell_type": "markdown",
      "source": [
        "\n",
        "Dress size must be ankle length."
      ],
      "metadata": {
        "id": "rvyGfmqlqzL1"
      }
    },
    {
      "cell_type": "code",
      "source": [],
      "metadata": {
        "id": "PWW51TqWqyeF"
      },
      "execution_count": null,
      "outputs": []
    },
    {
      "cell_type": "code",
      "source": [],
      "metadata": {
        "id": "d8f5QN5Lqygk"
      },
      "execution_count": null,
      "outputs": []
    },
    {
      "cell_type": "code",
      "source": [],
      "metadata": {
        "id": "tFFYt7Kgqyi8"
      },
      "execution_count": null,
      "outputs": []
    },
    {
      "cell_type": "code",
      "source": [],
      "metadata": {
        "id": "qjrY3lNsqylj"
      },
      "execution_count": null,
      "outputs": []
    },
    {
      "cell_type": "code",
      "source": [],
      "metadata": {
        "id": "ntMOtioVqyoL"
      },
      "execution_count": null,
      "outputs": []
    }
  ]
}